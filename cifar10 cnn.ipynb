{
  "cells": [
    {
      "cell_type": "code",
      "execution_count": 1,
      "metadata": {
        "id": "YeuAheYyhdZw"
      },
      "outputs": [],
      "source": [
        "# inspired from: A deep understanding of deep learning\n",
        "\n",
        "\n",
        "\n",
        "import numpy as np\n",
        "\n",
        "import torch\n",
        "import torch.nn as nn\n",
        "import torch.nn.functional as F\n",
        "\n",
        "import torchvision\n",
        "import torchvision.transforms as T\n",
        "from torch.utils.data import DataLoader,Subset\n",
        "\n",
        "\n",
        "\n",
        "import matplotlib.pyplot as plt\n",
        "from IPython import display\n",
        "display.set_matplotlib_formats('svg')\n",
        "\n",
        "# %matplotlib widget\n",
        "%matplotlib notebook\n",
        "%matplotlib inline\n",
        "\n"
      ]
    },
    {
      "cell_type": "code",
      "execution_count": 2,
      "metadata": {
        "id": "IBSQO5HB6Kje"
      },
      "outputs": [],
      "source": [
        "device = torch.device('cuda:0' if torch.cuda.is_available() else 'cpu')"
      ]
    },
    {
      "cell_type": "code",
      "execution_count": 3,
      "metadata": {
        "colab": {
          "base_uri": "https://localhost:8080/",
          "height": 101,
          "referenced_widgets": [
            "6ddf2417b3cc42ad88e17983aaa23fda",
            "3dac772f2edf462581538111e1fb965b",
            "61a943d0ff9a4eb3b8bffa2137975b30",
            "9dedb37bcec24cd0845090649a1a53b9",
            "ae9b4b45a4df4b3eb3e95201a07b6ca5",
            "f1548135ead64502b1ebb2d03e0b7986",
            "0b6e2793ca9a4eaeb58c4e05b6a588d0",
            "a731d363c74d4fb68b180244113de6ca",
            "dde643b774ac4550999e16a9dd7f29fa",
            "7abba8b25f2a46398d89e4c366d3c922",
            "a6e49c4d924544488093d375bf5ac2df"
          ]
        },
        "id": "R1huHlhc4gnE",
        "outputId": "d8877e3d-baaa-4d51-bee1-9133b24924df"
      },
      "outputs": [
        {
          "name": "stdout",
          "output_type": "stream",
          "text": [
            "Downloading https://www.cs.toronto.edu/~kriz/cifar-10-python.tar.gz to ./data/cifar-10-python.tar.gz\n"
          ]
        },
        {
          "data": {
            "application/vnd.jupyter.widget-view+json": {
              "model_id": "6ddf2417b3cc42ad88e17983aaa23fda",
              "version_major": 2,
              "version_minor": 0
            },
            "text/plain": [
              "  0%|          | 0/170498071 [00:00<?, ?it/s]"
            ]
          },
          "metadata": {},
          "output_type": "display_data"
        },
        {
          "name": "stdout",
          "output_type": "stream",
          "text": [
            "Extracting ./data/cifar-10-python.tar.gz to ./data\n",
            "Files already downloaded and verified\n"
          ]
        }
      ],
      "source": [
        "# transformations\n",
        "transform = T.Compose([ T.ToTensor(),\n",
        "                        T.Normalize([.5,.5,.5],[.5,.5,.5])\n",
        "                       ])\n",
        "\n",
        "\n",
        "trainset = torchvision.datasets.CIFAR10(root='./data', train=True,  download=True, transform=transform)\n",
        "devtest  = torchvision.datasets.CIFAR10(root='./data', train=False, download=True, transform=transform)\n",
        "\n",
        "randidx = np.random.permutation(10000)   # a random permutation of indices\n",
        "devset  = Subset(devtest,randidx[:6000]) # Subset for devset\n",
        "testset = Subset(devtest,randidx[6000:]) # Subset for test\n",
        "\n",
        "batchsize    = 32\n",
        "train_loader = DataLoader(trainset,batch_size=batchsize,shuffle=True,drop_last=True)\n",
        "dev_loader   = DataLoader(devset,  batch_size=batchsize) # devtest in batches!\n",
        "test_loader  = DataLoader(testset, batch_size=len(testset))"
      ]
    },
    {
      "cell_type": "code",
      "execution_count": 4,
      "metadata": {
        "colab": {
          "base_uri": "https://localhost:8080/"
        },
        "id": "oYwGTs2bxIjU",
        "outputId": "a423a26a-52a3-4247-92a8-def58d5bd504"
      },
      "outputs": [
        {
          "name": "stdout",
          "output_type": "stream",
          "text": [
            "Data shapes (train/dev/test):\n",
            "50000\n",
            "6000\n",
            "4000\n",
            "\n",
            "Data value range:\n",
            "(0, 255)\n",
            "\n",
            "Data categories:\n",
            "['airplane', 'automobile', 'bird', 'cat', 'deer', 'dog', 'frog', 'horse', 'ship', 'truck']\n"
          ]
        }
      ],
      "source": [
        "print('Data shapes (train/dev/test):')\n",
        "print( len(trainset) )\n",
        "print( len(devset) )\n",
        "print( len(testset) )\n",
        "\n",
        "print('\\nData value range:')\n",
        "print( (np.min(trainset.data),np.max(trainset.data)) )\n",
        "\n",
        "print('\\nData categories:')\n",
        "print( trainset.classes )"
      ]
    },
    {
      "cell_type": "code",
      "execution_count": 5,
      "metadata": {
        "colab": {
          "base_uri": "https://localhost:8080/"
        },
        "id": "eJ4PjMSr4hPo",
        "outputId": "3da430f4-9aca-4740-ca0a-0b47475f69b9"
      },
      "outputs": [
        {
          "name": "stdout",
          "output_type": "stream",
          "text": [
            "Data shapes (train/test):\n",
            "torch.Size([32, 3, 32, 32])\n",
            "\n",
            "Data value range:\n",
            "(tensor(-1.), tensor(1.))\n"
          ]
        }
      ],
      "source": [
        "X,y = next(iter(train_loader))\n",
        "\n",
        "print('Data shapes (train/test):')\n",
        "print( X.data.shape )\n",
        "\n",
        "print('\\nData value range:')\n",
        "print( (torch.min(X.data),torch.max(X.data)) )"
      ]
    },
    {
      "cell_type": "code",
      "execution_count": 6,
      "metadata": {
        "colab": {
          "base_uri": "https://localhost:8080/",
          "height": 729
        },
        "id": "hMpyFzF-d95B",
        "outputId": "79d23998-1649-4d6d-c45c-29fda771ce23"
      },
      "outputs": [
        {
          "data": {
            "image/png": "[encoded data removed]",
            "text/plain": [
              "<Figure size 720x720 with 16 Axes>"
            ]
          },
          "metadata": {
            "needs_background": "light"
          },
          "output_type": "display_data"
        }
      ],
      "source": [
        "fig,axs = plt.subplots(4,4,figsize=(10,10))\n",
        "\n",
        "for (i,ax) in enumerate(axs.flatten()):\n",
        "\n",
        "  pic = X.data[i].numpy().transpose((1,2,0))  # extract that image (need to transpose it back to 32x32x3)\n",
        "  pic = pic/2 + .5 # undo normalization\n",
        "  \n",
        "  label = trainset.classes[y[i]]\n",
        "\n",
        "  ax.imshow(pic)\n",
        "  ax.text(16,0,label,ha='center',fontweight='bold',color='k',backgroundcolor='y')\n",
        "  ax.axis('off')\n",
        "\n",
        "plt.tight_layout()\n",
        "plt.show()"
      ]
    },
    {
      "cell_type": "code",
      "execution_count": 7,
      "metadata": {
        "id": "JK3OO3tAtZkA"
      },
      "outputs": [],
      "source": [
        "def makeTheNet(printtoggle=False):\n",
        "\n",
        "  class cnnnet(nn.Module):\n",
        "    def __init__(self,printtoggle):\n",
        "      super().__init__()\n",
        "      \n",
        "      self.print = printtoggle\n",
        "\n",
        "      ### -------------- feature map layers -------------- ###\n",
        "      # first convolution layer\n",
        "      self.conv1  = nn.Conv2d(3,64,3,padding=1)\n",
        "      self.bnorm1 = nn.BatchNorm2d(64) # input the number of channels in this layer\n",
        "      # output size: (32+2*1-3)/1 + 1 = 32/2 = 16 (/2 b/c maxpool)\n",
        "\n",
        "      # second convolution layer\n",
        "      self.conv2  = nn.Conv2d(64,128,3)\n",
        "      self.bnorm2 = nn.BatchNorm2d(128) # input the number of channels in this layer\n",
        "      # output size: (16+2*0-3)/1 + 1 = 14/2 = 7 (/2 b/c maxpool)\n",
        "\n",
        "      # third convolution layer\n",
        "      self.conv3  = nn.Conv2d(128,256,3)\n",
        "      self.bnorm3 = nn.BatchNorm2d(256) # input the number of channels in this layer\n",
        "      # output size: (7+2*0-3)/1 + 1 = 5/2 = 2 (/2 b/c maxpool)\n",
        "      \n",
        "      ### -------------- linear decision layers -------------- ###\n",
        "      self.fc1 = nn.Linear(2*2*256,256)\n",
        "      self.fc2 = nn.Linear(256,64)\n",
        "      self.fc3 = nn.Linear(64,10)\n",
        "\n",
        "\n",
        "\n",
        "    def forward(self,x):\n",
        "      \n",
        "      if self.print: print(f'Input: {list(x.shape)}')\n",
        "      \n",
        "      # first block: convolution -> maxpool -> batchnorm -> relu\n",
        "      x = F.max_pool2d(self.conv1(x),2)\n",
        "      x = F.leaky_relu(self.bnorm1(x))\n",
        "      if self.print: print(f'First CPBR block: {list(x.shape)}')\n",
        "\n",
        "      # second block: convolution -> maxpool -> batchnorm -> relu\n",
        "      x = F.max_pool2d(self.conv2(x),2)\n",
        "      x = F.leaky_relu(self.bnorm2(x))\n",
        "      if self.print: print(f'Second CPR block: {list(x.shape)}')\n",
        "\n",
        "      # third block: convolution -> maxpool -> batchnorm -> relu\n",
        "      x = F.max_pool2d(self.conv3(x),2)\n",
        "      x = F.leaky_relu(self.bnorm3(x))\n",
        "      if self.print: print(f'Third CPR block: {list(x.shape)}')\n",
        "\n",
        "      # reshape for linear layer\n",
        "      nUnits = x.shape.numel()/x.shape[0]\n",
        "      x = x.view(-1,int(nUnits))\n",
        "      if self.print: print(f'Vectorized: {list(x.shape)}')\n",
        "      \n",
        "      # linear layers\n",
        "      x = F.leaky_relu(self.fc1(x))\n",
        "      x = F.dropout(x,p=.5,training=self.training)\n",
        "      x = F.leaky_relu(self.fc2(x))\n",
        "      x = F.dropout(x,p=.5,training=self.training) # training=self.training means to turn off during eval mode\n",
        "      x = self.fc3(x)\n",
        "      if self.print: print(f'Final output: {list(x.shape)}')\n",
        "\n",
        "      return x\n",
        "\n",
        "\n",
        "\n",
        "\n",
        "\n",
        "  net = cnnnet(printtoggle)\n",
        "  \n",
        "  lossfun = nn.CrossEntropyLoss()\n",
        "\n",
        "  optimizer = torch.optim.Adam(net.parameters(),lr=.001,weight_decay=1e-5)\n",
        "\n",
        "\n",
        "  \n",
        "  return net,lossfun,optimizer\n"
      ]
    },
    {
      "cell_type": "code",
      "execution_count": 8,
      "metadata": {
        "id": "yGr5_8gJ5zfg"
      },
      "outputs": [],
      "source": [
        "### TESTING some other model architectures...\n",
        "\n",
        "# # create a class for the model\n",
        "# def makeTheNet(printtoggle=False):\n",
        "\n",
        "#   class cnnnet(nn.Module):\n",
        "#     def __init__(self,printtoggle):\n",
        "#       super().__init__()\n",
        "      \n",
        "#       # print toggle\n",
        "#       self.print = printtoggle\n",
        "\n",
        "#       ### -------------- encoding layers -------------- ###\n",
        "#       # first convolution layer\n",
        "#       self.encconv1  = nn.Conv2d(3,16,4,padding=1,stride=2) # note: using stride instead of pool to downsample\n",
        "#       # output size: (28+2*1-4)/2 + 1 = 14\n",
        "\n",
        "#       # second convolution layer\n",
        "#       self.encconv2  = nn.Conv2d(16,32,4,padding=1,stride=2)\n",
        "#       # output size: (14+2*1-4)/2 + 1 = 7\n",
        "\n",
        "#       # third convolution layer\n",
        "#       self.encconv3  = nn.Conv2d(32,64,4,padding=1,stride=2)\n",
        "#       # output size: (7+2*1-4)/2 + 1 = 4\n",
        "      \n",
        "      \n",
        "\n",
        "#       ### ------------- linear layers ------------- ###\n",
        "#       self.fc1  = nn.Linear(4*4*64,128)\n",
        "#       self.fc2  = nn.Linear(128,64)\n",
        "#       self.fc3  = nn.Linear(64,10)\n",
        "      \n",
        "\n",
        "#     def forward(self,x):\n",
        "      \n",
        "#       if self.print: print(f'Input: {list(x.shape)}')\n",
        "      \n",
        "#       # first encoder layer\n",
        "#       x = F.leaky_relu(self.encconv1(x))\n",
        "#       if self.print: print(f'First encoder layer: {list(x.shape)}')\n",
        "\n",
        "#       # second encoder layer\n",
        "#       x = F.leaky_relu(self.encconv2(x))\n",
        "#       if self.print: print(f'Second encoder layer: {list(x.shape)}')\n",
        "\n",
        "#       # third encoder layer\n",
        "#       x = F.leaky_relu(self.encconv3(x))\n",
        "#       if self.print: print(f'Third encoder layer: {list(x.shape)}')\n",
        "\n",
        "#       # reshape to linear\n",
        "#       nUnits = x.shape.numel()/x.shape[0]\n",
        "#       x = x.view(-1,int(nUnits))\n",
        "#       if self.print: print(f'Post-convolution vectorized: {list(x.shape)}')\n",
        "\n",
        "#       # linear layers\n",
        "#       x = F.leaky_relu(self.fc1(x))\n",
        "#       if self.print: print(f'First linear layer: {list(x.shape)}')\n",
        "\n",
        "#       x = F.leaky_relu(self.fc2(x))\n",
        "#       if self.print: print(f'Second linear layer: {list(x.shape)}')\n",
        "      \n",
        "#       x = F.leaky_relu(self.fc3(x))\n",
        "#       if self.print: print(f'Output linear layer: {list(x.shape)}')\n",
        "\n",
        "#       return x\n",
        "\n",
        "#   # create the model instance\n",
        "#   net = cnnnet(printtoggle)\n",
        "  \n",
        "#   # loss function\n",
        "#   lossfun = nn.CrossEntropyLoss()\n",
        "\n",
        "#   # optimizer\n",
        "#   optimizer = torch.optim.Adam(net.parameters(),lr=.001)\n",
        "\n",
        "#   return net,lossfun,optimizer"
      ]
    },
    {
      "cell_type": "code",
      "execution_count": 9,
      "metadata": {
        "colab": {
          "base_uri": "https://localhost:8080/"
        },
        "id": "y6icEJcXp0el",
        "outputId": "e62d6129-9d62-4915-ca0a-a46ebfa016f4"
      },
      "outputs": [
        {
          "name": "stdout",
          "output_type": "stream",
          "text": [
            "Input: [32, 3, 32, 32]\n",
            "First CPBR block: [32, 64, 16, 16]\n",
            "Second CPR block: [32, 128, 7, 7]\n",
            "Third CPR block: [32, 256, 2, 2]\n",
            "Vectorized: [32, 1024]\n",
            "Final output: [32, 10]\n",
            "\n",
            "Output size:\n",
            "torch.Size([32, 10])\n",
            " \n",
            "Loss:\n",
            "tensor(2.3309, grad_fn=<NllLossBackward0>)\n"
          ]
        }
      ],
      "source": [
        "net,lossfun,optimizer = makeTheNet(True)\n",
        "\n",
        "X,y = iter(train_loader).next()\n",
        "yHat = net(X)\n",
        "\n",
        "print('\\nOutput size:')\n",
        "print(yHat.shape)\n",
        "\n",
        "loss = lossfun(yHat,torch.squeeze(y))\n",
        "print(' ')\n",
        "print('Loss:')\n",
        "print(loss)"
      ]
    },
    {
      "cell_type": "code",
      "execution_count": 10,
      "metadata": {
        "id": "IblJo1NCp0kl"
      },
      "outputs": [],
      "source": [
        "def funtion2trainTheModel():\n",
        "\n",
        "  numepochs = 10\n",
        "  \n",
        "  net,lossfun,optimizer = makeTheNet()\n",
        "\n",
        "  net.to(device)\n",
        "\n",
        "  trainLoss = torch.zeros(numepochs)\n",
        "  devLoss   = torch.zeros(numepochs)\n",
        "  trainAcc  = torch.zeros(numepochs)\n",
        "  devAcc    = torch.zeros(numepochs)\n",
        "\n",
        "\n",
        "  for epochi in range(numepochs):\n",
        "\n",
        "    net.train()\n",
        "    batchLoss = []\n",
        "    batchAcc  = []\n",
        "\n",
        "    for X,y in train_loader:\n",
        "\n",
        "      X = X.to(device)\n",
        "      y = y.to(device)\n",
        "\n",
        "      yHat = net(X)\n",
        "      loss = lossfun(yHat,y)\n",
        "\n",
        "      optimizer.zero_grad()\n",
        "      loss.backward()\n",
        "      optimizer.step()\n",
        "\n",
        "      batchLoss.append(loss.item())\n",
        "      batchAcc.append( torch.mean((torch.argmax(yHat,axis=1) == y).float()).item() )\n",
        "\n",
        "    trainLoss[epochi] = np.mean(batchLoss)\n",
        "    trainAcc[epochi]  = 100*np.mean(batchAcc)\n",
        "\n",
        "\n",
        "\n",
        "    net.eval()\n",
        "    batchAcc  = []\n",
        "    batchLoss = []\n",
        "\n",
        "    for X,y in dev_loader:\n",
        "\n",
        "      X = X.to(device)\n",
        "      y = y.to(device)\n",
        "\n",
        "      with torch.no_grad():\n",
        "        yHat = net(X)\n",
        "        loss = lossfun(yHat,y)\n",
        "      \n",
        "      batchLoss.append(loss.item())\n",
        "      batchAcc.append( torch.mean((torch.argmax(yHat,axis=1) == y).float()).item() )\n",
        "\n",
        "\n",
        "    devLoss[epochi] = np.mean(batchLoss)\n",
        "    devAcc[epochi]  = 100*np.mean(batchAcc)\n",
        "\n",
        "\n",
        "\n",
        "  return trainLoss,devLoss,trainAcc,devAcc,net\n",
        "  "
      ]
    },
    {
      "cell_type": "code",
      "execution_count": 11,
      "metadata": {
        "id": "l9pCC1R2p0nu"
      },
      "outputs": [],
      "source": [
        "# ~2 minutes with 10 epochs on GPU\n",
        "trainLoss,devLoss,trainAcc,devAcc,net = funtion2trainTheModel()"
      ]
    },
    {
      "cell_type": "code",
      "execution_count": 12,
      "metadata": {
        "id": "7FayyS9cmT45"
      },
      "outputs": [],
      "source": [
        "\n",
        "net.eval()\n",
        "X,y = next(iter(test_loader))\n",
        "\n",
        "X = X.to(device)\n",
        "y = y.to(device)\n",
        "\n",
        "with torch.no_grad():\n",
        "  yHat = net(X)\n",
        "  loss = lossfun(yHat,y)\n",
        "\n",
        "testLoss = loss.item()\n",
        "testAcc  = 100*torch.mean((torch.argmax(yHat,axis=1) == y).float()).item()"
      ]
    },
    {
      "cell_type": "code",
      "execution_count": 13,
      "metadata": {
        "colab": {
          "base_uri": "https://localhost:8080/",
          "height": 350
        },
        "id": "nOLzbmwM_dj5",
        "outputId": "b19a3789-4825-44fb-f133-5cbab830a4ad"
      },
      "outputs": [
        {
          "data": {
            "image/png": "[encoded data removed]",
            "text/plain": [
              "<Figure size 1152x360 with 2 Axes>"
            ]
          },
          "metadata": {
            "needs_background": "light"
          },
          "output_type": "display_data"
        }
      ],
      "source": [
        "fig,ax = plt.subplots(1,2,figsize=(16,5))\n",
        "\n",
        "ax[0].plot(trainLoss,'s-',label='Train')\n",
        "ax[0].plot(devLoss,'o-',label='Dev')\n",
        "ax[0].plot(len(devLoss)-1,testLoss,'r*',markersize=15,label='Test')\n",
        "ax[0].set_xlabel('Epochs')\n",
        "ax[0].set_ylabel('Loss (CEL)')\n",
        "ax[0].set_title('Model loss')\n",
        "\n",
        "ax[1].plot(trainAcc,'s-',label='Train')\n",
        "ax[1].plot(devAcc,'o-',label='Dev')\n",
        "ax[1].plot(len(devAcc)-1,testAcc,'r*',markersize=15,label='Test')\n",
        "ax[1].set_xlabel('Epochs')\n",
        "ax[1].set_ylabel('Accuracy (%)')\n",
        "ax[1].set_title(f'Final model dev/test accuracy: {devAcc[-1]:.2f}/{testAcc:.2f}%')\n",
        "ax[1].legend()\n",
        "\n",
        "plt.show()"
      ]
    }
  ],
  "metadata": {
    "accelerator": "GPU",
    "colab": {
      "collapsed_sections": [],
      "name": "DUDL_CNNmilestone_project1.ipynb",
      "provenance": []
    },
    "kernelspec": {
      "display_name": "Python 3",
      "name": "python3"
    },
    "widgets": {
      "application/vnd.jupyter.widget-state+json": {
        "0b6e2793ca9a4eaeb58c4e05b6a588d0": {
          "model_module": "@jupyter-widgets/controls",
          "model_module_version": "1.5.0",
          "model_name": "DescriptionStyleModel",
          "state": {
            "_model_module": "@jupyter-widgets/controls",
            "_model_module_version": "1.5.0",
            "_model_name": "DescriptionStyleModel",
            "_view_count": null,
            "_view_module": "@jupyter-widgets/base",
            "_view_module_version": "1.2.0",
            "_view_name": "StyleView",
            "description_width": ""
          }
        },
        "3dac772f2edf462581538111e1fb965b": {
          "model_module": "@jupyter-widgets/controls",
          "model_module_version": "1.5.0",
          "model_name": "HTMLModel",
          "state": {
            "_dom_classes": [],
            "_model_module": "@jupyter-widgets/controls",
            "_model_module_version": "1.5.0",
            "_model_name": "HTMLModel",
            "_view_count": null,
            "_view_module": "@jupyter-widgets/controls",
            "_view_module_version": "1.5.0",
            "_view_name": "HTMLView",
            "description": "",
            "description_tooltip": null,
            "layout": "IPY_MODEL_f1548135ead64502b1ebb2d03e0b7986",
            "placeholder": "​",
            "style": "IPY_MODEL_0b6e2793ca9a4eaeb58c4e05b6a588d0",
            "value": ""
          }
        },
        "61a943d0ff9a4eb3b8bffa2137975b30": {
          "model_module": "@jupyter-widgets/controls",
          "model_module_version": "1.5.0",
          "model_name": "FloatProgressModel",
          "state": {
            "_dom_classes": [],
            "_model_module": "@jupyter-widgets/controls",
            "_model_module_version": "1.5.0",
            "_model_name": "FloatProgressModel",
            "_view_count": null,
            "_view_module": "@jupyter-widgets/controls",
            "_view_module_version": "1.5.0",
            "_view_name": "ProgressView",
            "bar_style": "success",
            "description": "",
            "description_tooltip": null,
            "layout": "IPY_MODEL_a731d363c74d4fb68b180244113de6ca",
            "max": 170498071,
            "min": 0,
            "orientation": "horizontal",
            "style": "IPY_MODEL_dde643b774ac4550999e16a9dd7f29fa",
            "value": 170498071
          }
        },
        "6ddf2417b3cc42ad88e17983aaa23fda": {
          "model_module": "@jupyter-widgets/controls",
          "model_module_version": "1.5.0",
          "model_name": "HBoxModel",
          "state": {
            "_dom_classes": [],
            "_model_module": "@jupyter-widgets/controls",
            "_model_module_version": "1.5.0",
            "_model_name": "HBoxModel",
            "_view_count": null,
            "_view_module": "@jupyter-widgets/controls",
            "_view_module_version": "1.5.0",
            "_view_name": "HBoxView",
            "box_style": "",
            "children": [
              "IPY_MODEL_3dac772f2edf462581538111e1fb965b",
              "IPY_MODEL_61a943d0ff9a4eb3b8bffa2137975b30",
              "IPY_MODEL_9dedb37bcec24cd0845090649a1a53b9"
            ],
            "layout": "IPY_MODEL_ae9b4b45a4df4b3eb3e95201a07b6ca5"
          }
        },
        "7abba8b25f2a46398d89e4c366d3c922": {
          "model_module": "@jupyter-widgets/base",
          "model_module_version": "1.2.0",
          "model_name": "LayoutModel",
          "state": {
            "_model_module": "@jupyter-widgets/base",
            "_model_module_version": "1.2.0",
            "_model_name": "LayoutModel",
            "_view_count": null,
            "_view_module": "@jupyter-widgets/base",
            "_view_module_version": "1.2.0",
            "_view_name": "LayoutView",
            "align_content": null,
            "align_items": null,
            "align_self": null,
            "border": null,
            "bottom": null,
            "display": null,
            "flex": null,
            "flex_flow": null,
            "grid_area": null,
            "grid_auto_columns": null,
            "grid_auto_flow": null,
            "grid_auto_rows": null,
            "grid_column": null,
            "grid_gap": null,
            "grid_row": null,
            "grid_template_areas": null,
            "grid_template_columns": null,
            "grid_template_rows": null,
            "height": null,
            "justify_content": null,
            "justify_items": null,
            "left": null,
            "margin": null,
            "max_height": null,
            "max_width": null,
            "min_height": null,
            "min_width": null,
            "object_fit": null,
            "object_position": null,
            "order": null,
            "overflow": null,
            "overflow_x": null,
            "overflow_y": null,
            "padding": null,
            "right": null,
            "top": null,
            "visibility": null,
            "width": null
          }
        },
        "9dedb37bcec24cd0845090649a1a53b9": {
          "model_module": "@jupyter-widgets/controls",
          "model_module_version": "1.5.0",
          "model_name": "HTMLModel",
          "state": {
            "_dom_classes": [],
            "_model_module": "@jupyter-widgets/controls",
            "_model_module_version": "1.5.0",
            "_model_name": "HTMLModel",
            "_view_count": null,
            "_view_module": "@jupyter-widgets/controls",
            "_view_module_version": "1.5.0",
            "_view_name": "HTMLView",
            "description": "",
            "description_tooltip": null,
            "layout": "IPY_MODEL_7abba8b25f2a46398d89e4c366d3c922",
            "placeholder": "​",
            "style": "IPY_MODEL_a6e49c4d924544488093d375bf5ac2df",
            "value": " 170499072/? [00:11&lt;00:00, 16781543.60it/s]"
          }
        },
        "a6e49c4d924544488093d375bf5ac2df": {
          "model_module": "@jupyter-widgets/controls",
          "model_module_version": "1.5.0",
          "model_name": "DescriptionStyleModel",
          "state": {
            "_model_module": "@jupyter-widgets/controls",
            "_model_module_version": "1.5.0",
            "_model_name": "DescriptionStyleModel",
            "_view_count": null,
            "_view_module": "@jupyter-widgets/base",
            "_view_module_version": "1.2.0",
            "_view_name": "StyleView",
            "description_width": ""
          }
        },
        "a731d363c74d4fb68b180244113de6ca": {
          "model_module": "@jupyter-widgets/base",
          "model_module_version": "1.2.0",
          "model_name": "LayoutModel",
          "state": {
            "_model_module": "@jupyter-widgets/base",
            "_model_module_version": "1.2.0",
            "_model_name": "LayoutModel",
            "_view_count": null,
            "_view_module": "@jupyter-widgets/base",
            "_view_module_version": "1.2.0",
            "_view_name": "LayoutView",
            "align_content": null,
            "align_items": null,
            "align_self": null,
            "border": null,
            "bottom": null,
            "display": null,
            "flex": null,
            "flex_flow": null,
            "grid_area": null,
            "grid_auto_columns": null,
            "grid_auto_flow": null,
            "grid_auto_rows": null,
            "grid_column": null,
            "grid_gap": null,
            "grid_row": null,
            "grid_template_areas": null,
            "grid_template_columns": null,
            "grid_template_rows": null,
            "height": null,
            "justify_content": null,
            "justify_items": null,
            "left": null,
            "margin": null,
            "max_height": null,
            "max_width": null,
            "min_height": null,
            "min_width": null,
            "object_fit": null,
            "object_position": null,
            "order": null,
            "overflow": null,
            "overflow_x": null,
            "overflow_y": null,
            "padding": null,
            "right": null,
            "top": null,
            "visibility": null,
            "width": null
          }
        },
        "ae9b4b45a4df4b3eb3e95201a07b6ca5": {
          "model_module": "@jupyter-widgets/base",
          "model_module_version": "1.2.0",
          "model_name": "LayoutModel",
          "state": {
            "_model_module": "@jupyter-widgets/base",
            "_model_module_version": "1.2.0",
            "_model_name": "LayoutModel",
            "_view_count": null,
            "_view_module": "@jupyter-widgets/base",
            "_view_module_version": "1.2.0",
            "_view_name": "LayoutView",
            "align_content": null,
            "align_items": null,
            "align_self": null,
            "border": null,
            "bottom": null,
            "display": null,
            "flex": null,
            "flex_flow": null,
            "grid_area": null,
            "grid_auto_columns": null,
            "grid_auto_flow": null,
            "grid_auto_rows": null,
            "grid_column": null,
            "grid_gap": null,
            "grid_row": null,
            "grid_template_areas": null,
            "grid_template_columns": null,
            "grid_template_rows": null,
            "height": null,
            "justify_content": null,
            "justify_items": null,
            "left": null,
            "margin": null,
            "max_height": null,
            "max_width": null,
            "min_height": null,
            "min_width": null,
            "object_fit": null,
            "object_position": null,
            "order": null,
            "overflow": null,
            "overflow_x": null,
            "overflow_y": null,
            "padding": null,
            "right": null,
            "top": null,
            "visibility": null,
            "width": null
          }
        },
        "dde643b774ac4550999e16a9dd7f29fa": {
          "model_module": "@jupyter-widgets/controls",
          "model_module_version": "1.5.0",
          "model_name": "ProgressStyleModel",
          "state": {
            "_model_module": "@jupyter-widgets/controls",
            "_model_module_version": "1.5.0",
            "_model_name": "ProgressStyleModel",
            "_view_count": null,
            "_view_module": "@jupyter-widgets/base",
            "_view_module_version": "1.2.0",
            "_view_name": "StyleView",
            "bar_color": null,
            "description_width": ""
          }
        },
        "f1548135ead64502b1ebb2d03e0b7986": {
          "model_module": "@jupyter-widgets/base",
          "model_module_version": "1.2.0",
          "model_name": "LayoutModel",
          "state": {
            "_model_module": "@jupyter-widgets/base",
            "_model_module_version": "1.2.0",
            "_model_name": "LayoutModel",
            "_view_count": null,
            "_view_module": "@jupyter-widgets/base",
            "_view_module_version": "1.2.0",
            "_view_name": "LayoutView",
            "align_content": null,
            "align_items": null,
            "align_self": null,
            "border": null,
            "bottom": null,
            "display": null,
            "flex": null,
            "flex_flow": null,
            "grid_area": null,
            "grid_auto_columns": null,
            "grid_auto_flow": null,
            "grid_auto_rows": null,
            "grid_column": null,
            "grid_gap": null,
            "grid_row": null,
            "grid_template_areas": null,
            "grid_template_columns": null,
            "grid_template_rows": null,
            "height": null,
            "justify_content": null,
            "justify_items": null,
            "left": null,
            "margin": null,
            "max_height": null,
            "max_width": null,
            "min_height": null,
            "min_width": null,
            "object_fit": null,
            "object_position": null,
            "order": null,
            "overflow": null,
            "overflow_x": null,
            "overflow_y": null,
            "padding": null,
            "right": null,
            "top": null,
            "visibility": null,
            "width": null
          }
        }
      }
    }
  },
  "nbformat": 4,
  "nbformat_minor": 0
}
